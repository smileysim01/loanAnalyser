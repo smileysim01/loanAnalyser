{
 "cells": [
  {
   "cell_type": "markdown",
   "id": "f2aa9cf2-16a8-470c-9382-c4dbd1b04d2b",
   "metadata": {},
   "source": [
    "# simran4@wisc.edu, rgundavarapu@wisc.edu"
   ]
  },
  {
   "cell_type": "markdown",
   "id": "1190ba46-9e69-4420-b288-e3b9e8843c19",
   "metadata": {},
   "source": [
    "# PART 1: Data Setup"
   ]
  },
  {
   "cell_type": "code",
   "execution_count": 1,
   "id": "4b8c9502-f603-4928-b7f8-e0d9ea1416a1",
   "metadata": {},
   "outputs": [
    {
     "name": "stderr",
     "output_type": "stream",
     "text": [
      "Using Spark's default log4j profile: org/apache/spark/log4j-defaults.properties\n",
      "Setting default log level to \"WARN\".\n",
      "To adjust logging level use sc.setLogLevel(newLevel). For SparkR, use setLogLevel(newLevel).\n",
      "23/04/03 20:55:14 WARN NativeCodeLoader: Unable to load native-hadoop library for your platform... using builtin-java classes where applicable\n"
     ]
    }
   ],
   "source": [
    "from pyspark.sql import SparkSession\n",
    "spark = (SparkSession.builder.appName(\"cs544\")\n",
    "         .master(\"spark://main:7077\")\n",
    "         .config(\"spark.executor.memory\", \"512M\")\n",
    "         .config(\"spark.sql.warehouse.dir\", \"hdfs://main:9000/user/hive/warehouse\")\n",
    "         .enableHiveSupport()\n",
    "         .getOrCreate())"
   ]
  },
  {
   "cell_type": "code",
   "execution_count": 2,
   "id": "c8e32a42-7405-4779-b7df-82420400e55b",
   "metadata": {},
   "outputs": [
    {
     "name": "stdout",
     "output_type": "stream",
     "text": [
      "  % Total    % Received % Xferd  Average Speed   Time    Time     Time  Current\n",
      "                                 Dload  Upload   Total   Spent    Left  Speed\n",
      "100 20.4M  100 20.4M    0     0  10.0M      0  0:00:02  0:00:02 --:--:-- 10.0M\n",
      "  % Total    % Received % Xferd  Average Speed   Time    Time     Time  Current\n",
      "                                 Dload  Upload   Total   Spent    Left  Speed\n",
      "100  141k  100  141k    0     0   543k      0 --:--:-- --:--:-- --:--:--  543k\n",
      "  % Total    % Received % Xferd  Average Speed   Time    Time     Time  Current\n",
      "                                 Dload  Upload   Total   Spent    Left  Speed\n",
      "100  779k  100  779k    0     0  2180k      0 --:--:-- --:--:-- --:--:-- 2176k\n"
     ]
    }
   ],
   "source": [
    "!curl https://pages.cs.wisc.edu/~harter/cs639/data/hdma-wi-2021.zip > wi-2021.zip\n",
    "!curl https://pages.cs.wisc.edu/~harter/cs639/data/arid2017_to_lei_xref_csv.zip > arid-2017.zip\n",
    "!curl https://pages.cs.wisc.edu/~harter/cs639/data/code_sheets.zip > code_sheets.zip"
   ]
  },
  {
   "cell_type": "code",
   "execution_count": 3,
   "id": "8ad66092-7542-4e77-8e91-b34376b4959c",
   "metadata": {},
   "outputs": [],
   "source": [
    "import zipfile as zf\n",
    "import glob\n",
    " \n",
    "zips = [zf.ZipFile('wi-2021.zip'),zf.ZipFile('arid-2017.zip'),zf.ZipFile('code_sheets.zip')]\n",
    "\n",
    "for zipfiles in zips:\n",
    "    zipfiles.extractall()\n",
    "    \n",
    "csv_dict = {}\n",
    "path = \"./*.csv\"\n",
    "for file_name in glob.glob(path):\n",
    "    file_name = str(file_name[2:])\n",
    "    !hdfs dfs -cp {file_name} hdfs://main:9000/{file_name}"
   ]
  },
  {
   "cell_type": "code",
   "execution_count": 4,
   "id": "4d5a82c8-ec30-48b0-9b2b-64950f84ea03",
   "metadata": {},
   "outputs": [
    {
     "name": "stdout",
     "output_type": "stream",
     "text": [
      "328      984      hdfs://main:9000/action_taken.csv\n",
      "317      951      hdfs://main:9000/agency.csv\n",
      "521.0 K  1.5 M    hdfs://main:9000/arid2017_to_lei_xref_csv.csv\n",
      "311.6 K  934.8 K  hdfs://main:9000/counties.csv\n",
      "237      711      hdfs://main:9000/denial_reason.csv\n",
      "109      327      hdfs://main:9000/edit_status.csv\n",
      "180      540      hdfs://main:9000/ethnicity.csv\n",
      "166.8 M  500.5 M  hdfs://main:9000/hdma-wi-2021.csv\n",
      "41       123      hdfs://main:9000/hoepa.csv\n",
      "114      342      hdfs://main:9000/lien_status.csv\n",
      "65       195      hdfs://main:9000/loan_purpose.csv\n",
      "79       237      hdfs://main:9000/loan_type.csv\n",
      "129.6 K  388.7 K  hdfs://main:9000/msamd.csv\n",
      "122      366      hdfs://main:9000/owner_occupancy.csv\n",
      "92       276      hdfs://main:9000/preapproval.csv\n",
      "127      381      hdfs://main:9000/property_type.csv\n",
      "387      1.1 K    hdfs://main:9000/purchaser_type.csv\n",
      "252      756      hdfs://main:9000/race.csv\n",
      "144      432      hdfs://main:9000/sex.csv\n",
      "955      2.8 K    hdfs://main:9000/states.csv\n",
      "2.6 M    7.8 M    hdfs://main:9000/tracts.csv\n"
     ]
    }
   ],
   "source": [
    "!hdfs dfs -du -h hdfs://main:9000/"
   ]
  },
  {
   "cell_type": "code",
   "execution_count": 5,
   "id": "cb84dd7e-845a-4ebd-be25-c2382ea9ec00",
   "metadata": {},
   "outputs": [
    {
     "name": "stderr",
     "output_type": "stream",
     "text": [
      "23/04/03 20:57:12 WARN HiveConf: HiveConf of name hive.stats.jdbc.timeout does not exist\n",
      "23/04/03 20:57:12 WARN HiveConf: HiveConf of name hive.stats.retries.wait does not exist\n",
      "23/04/03 20:57:18 WARN ObjectStore: Version information not found in metastore. hive.metastore.schema.verification is not enabled so recording the schema version 2.3.0\n",
      "23/04/03 20:57:18 WARN ObjectStore: setMetaStoreSchemaVersion called but recording version is disabled: version = 2.3.0, comment = Set by MetaStore UNKNOWN@172.24.0.2\n",
      "23/04/03 20:57:19 WARN ObjectStore: Failed to get database global_temp, returning NoSuchObjectException\n",
      "23/04/03 20:57:19 WARN HadoopFSUtils: The directory hdfs://main:9000/user/hive/warehouse/loans was not found. Was it deleted very recently?\n",
      "23/04/03 20:57:20 WARN FileUtils: File does not exist: hdfs://main:9000/user/hive/warehouse/loans; Force to delete it.\n",
      "23/04/03 20:57:20 ERROR FileUtils: Failed to delete hdfs://main:9000/user/hive/warehouse/loans\n",
      "23/04/03 20:57:20 WARN package: Truncated the string representation of a plan since it was too large. This behavior can be adjusted by setting 'spark.sql.debug.maxToStringFields'.\n",
      "23/04/03 20:57:52 WARN SessionState: METASTORE_FILTER_HOOK will be ignored, since hive.security.authorization.manager is set to instance of HiveAuthorizerFactory.\n",
      "23/04/03 20:57:52 WARN HiveConf: HiveConf of name hive.internal.ss.authz.settings.applied.marker does not exist\n",
      "23/04/03 20:57:52 WARN HiveConf: HiveConf of name hive.stats.jdbc.timeout does not exist\n",
      "23/04/03 20:57:52 WARN HiveConf: HiveConf of name hive.stats.retries.wait does not exist\n",
      "23/04/03 20:57:55 WARN HadoopFSUtils: The directory hdfs://main:9000/user/hive/warehouse/banks was not found. Was it deleted very recently?\n",
      "23/04/03 20:57:55 WARN FileUtils: File does not exist: hdfs://main:9000/user/hive/warehouse/banks; Force to delete it.\n",
      "23/04/03 20:57:55 ERROR FileUtils: Failed to delete hdfs://main:9000/user/hive/warehouse/banks\n",
      "                                                                                \r"
     ]
    }
   ],
   "source": [
    "table_list = [\"hdma-wi-2021\",\"arid2017_to_lei_xref_csv\", \"ethnicity\", \"race\", \"sex\", \"states\", \n",
    "              \"counties\",\"tracts\", \"action_taken\", \"denial_reason\", \"loan_type\", \"loan_purpose\", \n",
    "              \"preapproval\", \"property_type\"]\n",
    "\n",
    "for zipfiles in zips:\n",
    "    for csv_files in zipfiles.namelist():\n",
    "        if(csv_files[:-4] in table_list):\n",
    "            #print(csv_files)\n",
    "            df = (spark.read.format(\"csv\").option(\"header\", True).option(\"inferSchema\", True)\n",
    "                  .load(\"hdfs://main:9000/\" + csv_files))\n",
    "            if(csv_files == 'hdma-wi-2021.csv'):\n",
    "                df.write.bucketBy(8,\"county_code\").saveAsTable('loans', mode='overwrite')\n",
    "            elif(csv_files == 'arid2017_to_lei_xref_csv.csv'):                                  \n",
    "                df.write.saveAsTable('banks', mode='overwrite')      \n",
    "            else:\n",
    "                df.createOrReplaceTempView(csv_files[:-4])\n",
    "            #print(csv_files)"
   ]
  },
  {
   "cell_type": "markdown",
   "id": "106eba1b-d755-4a06-a791-d131d5b6a2ee",
   "metadata": {},
   "source": [
    "# Q1"
   ]
  },
  {
   "cell_type": "code",
   "execution_count": 6,
   "id": "f9f4b9b5-e02f-4fc1-8aa3-785d0fe269d3",
   "metadata": {},
   "outputs": [
    {
     "name": "stdout",
     "output_type": "stream",
     "text": [
      "+---------+-------------+-----------+\n",
      "|namespace|    tableName|isTemporary|\n",
      "+---------+-------------+-----------+\n",
      "|  default|        banks|      false|\n",
      "|  default|counties_code|      false|\n",
      "|  default|        loans|      false|\n",
      "|         | action_taken|       true|\n",
      "|         |     counties|       true|\n",
      "|         |denial_reason|       true|\n",
      "|         |    ethnicity|       true|\n",
      "|         | loan_purpose|       true|\n",
      "|         |    loan_type|       true|\n",
      "|         |  preapproval|       true|\n",
      "|         |property_type|       true|\n",
      "|         |         race|       true|\n",
      "|         |          sex|       true|\n",
      "|         |       states|       true|\n",
      "|         |       tracts|       true|\n",
      "+---------+-------------+-----------+\n",
      "\n"
     ]
    }
   ],
   "source": [
    "spark.sql(\"SHOW TABLES\").show()"
   ]
  },
  {
   "cell_type": "markdown",
   "id": "06c11ffc-e6e6-40c3-acd1-e31104bd1121",
   "metadata": {},
   "source": [
    "# PART 2: Filter and Join"
   ]
  },
  {
   "cell_type": "markdown",
   "id": "3e0fecf9-6363-40b9-b8cd-04f5fcd6eebf",
   "metadata": {},
   "source": [
    "# Q2"
   ]
  },
  {
   "cell_type": "code",
   "execution_count": 7,
   "id": "a9730ddc-be33-47b7-8ecd-fe36d19ac03b",
   "metadata": {},
   "outputs": [
    {
     "name": "stderr",
     "output_type": "stream",
     "text": [
      "                                                                                \r"
     ]
    },
    {
     "data": {
      "text/html": [
       "<div>\n",
       "<style scoped>\n",
       "    .dataframe tbody tr th:only-of-type {\n",
       "        vertical-align: middle;\n",
       "    }\n",
       "\n",
       "    .dataframe tbody tr th {\n",
       "        vertical-align: top;\n",
       "    }\n",
       "\n",
       "    .dataframe thead th {\n",
       "        text-align: right;\n",
       "    }\n",
       "</style>\n",
       "<table border=\"1\" class=\"dataframe\">\n",
       "  <thead>\n",
       "    <tr style=\"text-align: right;\">\n",
       "      <th></th>\n",
       "      <th>firsts</th>\n",
       "    </tr>\n",
       "  </thead>\n",
       "  <tbody>\n",
       "    <tr>\n",
       "      <th>0</th>\n",
       "      <td>525</td>\n",
       "    </tr>\n",
       "  </tbody>\n",
       "</table>\n",
       "</div>"
      ],
      "text/plain": [
       "   firsts\n",
       "0     525"
      ]
     },
     "execution_count": 7,
     "metadata": {},
     "output_type": "execute_result"
    }
   ],
   "source": [
    "spark.sql(\"\"\"\n",
    "SELECT COUNT(*)\n",
    "FILTER(\n",
    "WHERE LOWER(respondent_name) LIKE \"%first%\") AS firsts\n",
    "FROM banks\n",
    "\"\"\").toPandas()"
   ]
  },
  {
   "cell_type": "code",
   "execution_count": 8,
   "id": "448162ba-50ed-4f7e-9402-4994f7a7b759",
   "metadata": {},
   "outputs": [
    {
     "name": "stderr",
     "output_type": "stream",
     "text": [
      "                                                                                \r"
     ]
    },
    {
     "data": {
      "text/html": [
       "<div>\n",
       "<style scoped>\n",
       "    .dataframe tbody tr th:only-of-type {\n",
       "        vertical-align: middle;\n",
       "    }\n",
       "\n",
       "    .dataframe tbody tr th {\n",
       "        vertical-align: top;\n",
       "    }\n",
       "\n",
       "    .dataframe thead th {\n",
       "        text-align: right;\n",
       "    }\n",
       "</style>\n",
       "<table border=\"1\" class=\"dataframe\">\n",
       "  <thead>\n",
       "    <tr style=\"text-align: right;\">\n",
       "      <th></th>\n",
       "      <th>respondent_name</th>\n",
       "      <th>arid_2017</th>\n",
       "      <th>lei_2018</th>\n",
       "      <th>lei_2019</th>\n",
       "      <th>lei_2020</th>\n",
       "    </tr>\n",
       "  </thead>\n",
       "  <tbody>\n",
       "    <tr>\n",
       "      <th>0</th>\n",
       "      <td>Old Second National Bank</td>\n",
       "      <td>14596</td>\n",
       "      <td>B94HV8SXGDD3J5XESU08</td>\n",
       "      <td>B94HV8SXGDD3J5XESU08</td>\n",
       "      <td>B94HV8SXGDD3J5XESU08</td>\n",
       "    </tr>\n",
       "  </tbody>\n",
       "</table>\n",
       "</div>"
      ],
      "text/plain": [
       "            respondent_name arid_2017              lei_2018  \\\n",
       "0  Old Second National Bank     14596  B94HV8SXGDD3J5XESU08   \n",
       "\n",
       "               lei_2019              lei_2020  \n",
       "0  B94HV8SXGDD3J5XESU08  B94HV8SXGDD3J5XESU08  "
      ]
     },
     "execution_count": 8,
     "metadata": {},
     "output_type": "execute_result"
    }
   ],
   "source": [
    "spark.sql(\"\"\"\n",
    "SELECT *\n",
    "FROM banks\n",
    "WHERE LOWER(respondent_name) LIKE \"%second%\"\n",
    "\"\"\").toPandas()"
   ]
  },
  {
   "cell_type": "markdown",
   "id": "8164ac9c-1158-4790-9582-38e4b8ab18ef",
   "metadata": {},
   "source": [
    "# Q3"
   ]
  },
  {
   "cell_type": "code",
   "execution_count": 9,
   "id": "3b6e02e7-839d-49fd-9f7a-55c630dccce0",
   "metadata": {},
   "outputs": [
    {
     "name": "stderr",
     "output_type": "stream",
     "text": [
      "                                                                                \r"
     ]
    },
    {
     "data": {
      "text/html": [
       "<div>\n",
       "<style scoped>\n",
       "    .dataframe tbody tr th:only-of-type {\n",
       "        vertical-align: middle;\n",
       "    }\n",
       "\n",
       "    .dataframe tbody tr th {\n",
       "        vertical-align: top;\n",
       "    }\n",
       "\n",
       "    .dataframe thead th {\n",
       "        text-align: right;\n",
       "    }\n",
       "</style>\n",
       "<table border=\"1\" class=\"dataframe\">\n",
       "  <thead>\n",
       "    <tr style=\"text-align: right;\">\n",
       "      <th></th>\n",
       "      <th>count(1)</th>\n",
       "    </tr>\n",
       "  </thead>\n",
       "  <tbody>\n",
       "    <tr>\n",
       "      <th>0</th>\n",
       "      <td>564</td>\n",
       "    </tr>\n",
       "  </tbody>\n",
       "</table>\n",
       "</div>"
      ],
      "text/plain": [
       "   count(1)\n",
       "0       564"
      ]
     },
     "execution_count": 9,
     "metadata": {},
     "output_type": "execute_result"
    }
   ],
   "source": [
    "results = spark.sql(\n",
    "    \"\"\"\n",
    "    SELECT COUNT(*) \n",
    "    FROM banks\n",
    "    INNER JOIN loans ON loans.lei = banks.lei_2020\n",
    "    WHERE banks.respondent_name = 'AMERICAN FINANCIAL NETWORK, INC.'\n",
    "    \"\"\")\n",
    "results.toPandas()\n",
    "\n",
    "## FAVOURITE BANK IS AMERICAN FINANCIAL NETWORK, INC."
   ]
  },
  {
   "cell_type": "markdown",
   "id": "a199c98f-8cd1-461c-9269-9cc2a736cb29",
   "metadata": {},
   "source": [
    "# Q4"
   ]
  },
  {
   "cell_type": "code",
   "execution_count": 10,
   "id": "98b61c60-48b7-41a1-8243-d4dd6e684a3e",
   "metadata": {},
   "outputs": [
    {
     "name": "stdout",
     "output_type": "stream",
     "text": [
      "== Physical Plan ==\n",
      "AdaptiveSparkPlan (25)\n",
      "+- == Final Plan ==\n",
      "   * HashAggregate (15)\n",
      "   +- ShuffleQueryStage (14)\n",
      "      +- Exchange (13)\n",
      "         +- * HashAggregate (12)\n",
      "            +- * Project (11)\n",
      "               +- * BroadcastHashJoin Inner BuildLeft (10)\n",
      "                  :- BroadcastQueryStage (6)\n",
      "                  :  +- BroadcastExchange (5)\n",
      "                  :     +- * Project (4)\n",
      "                  :        +- * Filter (3)\n",
      "                  :           +- * ColumnarToRow (2)\n",
      "                  :              +- Scan parquet default.banks (1)\n",
      "                  +- * Filter (9)\n",
      "                     +- * ColumnarToRow (8)\n",
      "                        +- Scan parquet default.loans (7)\n",
      "+- == Initial Plan ==\n",
      "   HashAggregate (24)\n",
      "   +- Exchange (23)\n",
      "      +- HashAggregate (22)\n",
      "         +- Project (21)\n",
      "            +- BroadcastHashJoin Inner BuildLeft (20)\n",
      "               :- BroadcastExchange (18)\n",
      "               :  +- Project (17)\n",
      "               :     +- Filter (16)\n",
      "               :        +- Scan parquet default.banks (1)\n",
      "               +- Filter (19)\n",
      "                  +- Scan parquet default.loans (7)\n",
      "\n",
      "\n",
      "(1) Scan parquet default.banks\n",
      "Output [2]: [respondent_name#948, lei_2020#952]\n",
      "Batched: true\n",
      "Location: InMemoryFileIndex [hdfs://main:9000/user/hive/warehouse/banks]\n",
      "PushedFilters: [IsNotNull(respondent_name), EqualTo(respondent_name,AMERICAN FINANCIAL NETWORK, INC.), IsNotNull(lei_2020)]\n",
      "ReadSchema: struct<respondent_name:string,lei_2020:string>\n",
      "\n",
      "(2) ColumnarToRow [codegen id : 1]\n",
      "Input [2]: [respondent_name#948, lei_2020#952]\n",
      "\n",
      "(3) Filter [codegen id : 1]\n",
      "Input [2]: [respondent_name#948, lei_2020#952]\n",
      "Condition : ((isnotnull(respondent_name#948) AND (respondent_name#948 = AMERICAN FINANCIAL NETWORK, INC.)) AND isnotnull(lei_2020#952))\n",
      "\n",
      "(4) Project [codegen id : 1]\n",
      "Output [1]: [lei_2020#952]\n",
      "Input [2]: [respondent_name#948, lei_2020#952]\n",
      "\n",
      "(5) BroadcastExchange\n",
      "Input [1]: [lei_2020#952]\n",
      "Arguments: HashedRelationBroadcastMode(List(input[0, string, true]),false), [plan_id=450]\n",
      "\n",
      "(6) BroadcastQueryStage\n",
      "Output [1]: [lei_2020#952]\n",
      "Arguments: 0\n",
      "\n",
      "(7) Scan parquet default.loans\n",
      "Output [1]: [lei#964]\n",
      "Batched: true\n",
      "Location: InMemoryFileIndex [hdfs://main:9000/user/hive/warehouse/loans]\n",
      "PushedFilters: [IsNotNull(lei)]\n",
      "ReadSchema: struct<lei:string>\n",
      "\n",
      "(8) ColumnarToRow\n",
      "Input [1]: [lei#964]\n",
      "\n",
      "(9) Filter\n",
      "Input [1]: [lei#964]\n",
      "Condition : isnotnull(lei#964)\n",
      "\n",
      "(10) BroadcastHashJoin [codegen id : 2]\n",
      "Left keys [1]: [lei_2020#952]\n",
      "Right keys [1]: [lei#964]\n",
      "Join condition: None\n",
      "\n",
      "(11) Project [codegen id : 2]\n",
      "Output: []\n",
      "Input [2]: [lei_2020#952, lei#964]\n",
      "\n",
      "(12) HashAggregate [codegen id : 2]\n",
      "Input: []\n",
      "Keys: []\n",
      "Functions [1]: [partial_count(1)]\n",
      "Aggregate Attributes [1]: [count#1064L]\n",
      "Results [1]: [count#1065L]\n",
      "\n",
      "(13) Exchange\n",
      "Input [1]: [count#1065L]\n",
      "Arguments: SinglePartition, ENSURE_REQUIREMENTS, [plan_id=508]\n",
      "\n",
      "(14) ShuffleQueryStage\n",
      "Output [1]: [count#1065L]\n",
      "Arguments: 1\n",
      "\n",
      "(15) HashAggregate [codegen id : 3]\n",
      "Input [1]: [count#1065L]\n",
      "Keys: []\n",
      "Functions [1]: [count(1)]\n",
      "Aggregate Attributes [1]: [count(1)#962L]\n",
      "Results [1]: [count(1)#962L AS count(1)#1062L]\n",
      "\n",
      "(16) Filter\n",
      "Input [2]: [respondent_name#948, lei_2020#952]\n",
      "Condition : ((isnotnull(respondent_name#948) AND (respondent_name#948 = AMERICAN FINANCIAL NETWORK, INC.)) AND isnotnull(lei_2020#952))\n",
      "\n",
      "(17) Project\n",
      "Output [1]: [lei_2020#952]\n",
      "Input [2]: [respondent_name#948, lei_2020#952]\n",
      "\n",
      "(18) BroadcastExchange\n",
      "Input [1]: [lei_2020#952]\n",
      "Arguments: HashedRelationBroadcastMode(List(input[0, string, true]),false), [plan_id=419]\n",
      "\n",
      "(19) Filter\n",
      "Input [1]: [lei#964]\n",
      "Condition : isnotnull(lei#964)\n",
      "\n",
      "(20) BroadcastHashJoin\n",
      "Left keys [1]: [lei_2020#952]\n",
      "Right keys [1]: [lei#964]\n",
      "Join condition: None\n",
      "\n",
      "(21) Project\n",
      "Output: []\n",
      "Input [2]: [lei_2020#952, lei#964]\n",
      "\n",
      "(22) HashAggregate\n",
      "Input: []\n",
      "Keys: []\n",
      "Functions [1]: [partial_count(1)]\n",
      "Aggregate Attributes [1]: [count#1064L]\n",
      "Results [1]: [count#1065L]\n",
      "\n",
      "(23) Exchange\n",
      "Input [1]: [count#1065L]\n",
      "Arguments: SinglePartition, ENSURE_REQUIREMENTS, [plan_id=424]\n",
      "\n",
      "(24) HashAggregate\n",
      "Input [1]: [count#1065L]\n",
      "Keys: []\n",
      "Functions [1]: [count(1)]\n",
      "Aggregate Attributes [1]: [count(1)#962L]\n",
      "Results [1]: [count(1)#962L AS count(1)#1062L]\n",
      "\n",
      "(25) AdaptiveSparkPlan\n",
      "Output [1]: [count(1)#1062L]\n",
      "Arguments: isFinalPlan=true\n",
      "\n",
      "\n"
     ]
    }
   ],
   "source": [
    "results.explain('formatted')"
   ]
  },
  {
   "cell_type": "markdown",
   "id": "7d86bb2e-ce7a-4e8a-9dc9-c0d23e384f88",
   "metadata": {
    "tags": []
   },
   "source": [
    "1. Which table is sent to every executor via a BroadcastExchange operation?\n",
    "* loans\n",
    "2. On which tables is \"is not null\" filtering added by the optimizer?\n",
    "* banks\n",
    "* loans\n",
    "3. Which Functions do the HashAggregates use?\n",
    "* partial_count(1)\n",
    "* count(1)"
   ]
  },
  {
   "cell_type": "markdown",
   "id": "750e20d9-25c0-45b1-951e-3c17e3d3fc59",
   "metadata": {},
   "source": [
    "# Q5"
   ]
  },
  {
   "cell_type": "code",
   "execution_count": 11,
   "id": "6c766f44-f4fa-423e-a13d-4594fcfb2b72",
   "metadata": {},
   "outputs": [],
   "source": [
    "spark.sql(\"\"\"\n",
    "SELECT state, county, concat(LPAD(state ,2,'0'),LPAD(county ,3,'0')) as countycode,name\n",
    "FROM counties\n",
    "GROUP BY state,county,name\n",
    "\"\"\").createOrReplaceTempView('counties2')"
   ]
  },
  {
   "cell_type": "code",
   "execution_count": 12,
   "id": "a9165f2b-3076-4b92-a7b5-40865042631f",
   "metadata": {},
   "outputs": [],
   "source": [
    "spark.sql(\"\"\"\n",
    "select loan_purpose,lei,county_code,action_taken,census_tract,derived_dwelling_category,(loan_amount/1000) as thousands,interest_rate,(loan_term/12) as years\n",
    "from loans\n",
    "\"\"\").createOrReplaceTempView('loans2')"
   ]
  },
  {
   "cell_type": "code",
   "execution_count": 13,
   "id": "93074781-4cc6-41ac-9cd3-706267df36f4",
   "metadata": {},
   "outputs": [
    {
     "name": "stderr",
     "output_type": "stream",
     "text": [
      "                                                                                \r"
     ]
    },
    {
     "data": {
      "text/html": [
       "<div>\n",
       "<style scoped>\n",
       "    .dataframe tbody tr th:only-of-type {\n",
       "        vertical-align: middle;\n",
       "    }\n",
       "\n",
       "    .dataframe tbody tr th {\n",
       "        vertical-align: top;\n",
       "    }\n",
       "\n",
       "    .dataframe thead th {\n",
       "        text-align: right;\n",
       "    }\n",
       "</style>\n",
       "<table border=\"1\" class=\"dataframe\">\n",
       "  <thead>\n",
       "    <tr style=\"text-align: right;\">\n",
       "      <th></th>\n",
       "      <th>census_tract</th>\n",
       "      <th>name</th>\n",
       "      <th>loan_purpose</th>\n",
       "      <th>derived_dwelling_category</th>\n",
       "      <th>thousands</th>\n",
       "      <th>interest_rate</th>\n",
       "      <th>years</th>\n",
       "      <th>action_taken</th>\n",
       "    </tr>\n",
       "  </thead>\n",
       "  <tbody>\n",
       "    <tr>\n",
       "      <th>0</th>\n",
       "      <td>55089660201</td>\n",
       "      <td>Ozaukee</td>\n",
       "      <td>Home purchase</td>\n",
       "      <td>Single Family (1-4 Units):Site-Built</td>\n",
       "      <td>625.0</td>\n",
       "      <td>4.25</td>\n",
       "      <td>30.0</td>\n",
       "      <td>Loan originated</td>\n",
       "    </tr>\n",
       "    <tr>\n",
       "      <th>1</th>\n",
       "      <td>55059002700</td>\n",
       "      <td>Kenosha</td>\n",
       "      <td>None</td>\n",
       "      <td>Single Family (1-4 Units):Site-Built</td>\n",
       "      <td>595.0</td>\n",
       "      <td>NA</td>\n",
       "      <td>30.0</td>\n",
       "      <td>File closed for incompleteness</td>\n",
       "    </tr>\n",
       "    <tr>\n",
       "      <th>2</th>\n",
       "      <td>55059002700</td>\n",
       "      <td>Kenosha</td>\n",
       "      <td>None</td>\n",
       "      <td>Single Family (1-4 Units):Site-Built</td>\n",
       "      <td>595.0</td>\n",
       "      <td>NA</td>\n",
       "      <td>30.0</td>\n",
       "      <td>File closed for incompleteness</td>\n",
       "    </tr>\n",
       "    <tr>\n",
       "      <th>3</th>\n",
       "      <td>55059002700</td>\n",
       "      <td>Kenosha</td>\n",
       "      <td>None</td>\n",
       "      <td>Single Family (1-4 Units):Site-Built</td>\n",
       "      <td>585.0</td>\n",
       "      <td>NA</td>\n",
       "      <td>30.0</td>\n",
       "      <td>File closed for incompleteness</td>\n",
       "    </tr>\n",
       "    <tr>\n",
       "      <th>4</th>\n",
       "      <td>55133203306</td>\n",
       "      <td>Waukesha</td>\n",
       "      <td>None</td>\n",
       "      <td>Single Family (1-4 Units):Site-Built</td>\n",
       "      <td>575.0</td>\n",
       "      <td>NA</td>\n",
       "      <td>30.0</td>\n",
       "      <td>File closed for incompleteness</td>\n",
       "    </tr>\n",
       "    <tr>\n",
       "      <th>5</th>\n",
       "      <td>55133204502</td>\n",
       "      <td>Waukesha</td>\n",
       "      <td>None</td>\n",
       "      <td>Single Family (1-4 Units):Site-Built</td>\n",
       "      <td>565.0</td>\n",
       "      <td>NA</td>\n",
       "      <td>30.0</td>\n",
       "      <td>File closed for incompleteness</td>\n",
       "    </tr>\n",
       "    <tr>\n",
       "      <th>6</th>\n",
       "      <td>55139002201</td>\n",
       "      <td>Winnebago</td>\n",
       "      <td>None</td>\n",
       "      <td>Single Family (1-4 Units):Site-Built</td>\n",
       "      <td>545.0</td>\n",
       "      <td>3.125</td>\n",
       "      <td>30.0</td>\n",
       "      <td>Loan originated</td>\n",
       "    </tr>\n",
       "    <tr>\n",
       "      <th>7</th>\n",
       "      <td>55139002201</td>\n",
       "      <td>Winnebago</td>\n",
       "      <td>None</td>\n",
       "      <td>Single Family (1-4 Units):Site-Built</td>\n",
       "      <td>545.0</td>\n",
       "      <td>3.125</td>\n",
       "      <td>30.0</td>\n",
       "      <td>Application approved but not accepted</td>\n",
       "    </tr>\n",
       "    <tr>\n",
       "      <th>8</th>\n",
       "      <td>55133203306</td>\n",
       "      <td>Waukesha</td>\n",
       "      <td>None</td>\n",
       "      <td>Single Family (1-4 Units):Site-Built</td>\n",
       "      <td>545.0</td>\n",
       "      <td>2.75</td>\n",
       "      <td>30.0</td>\n",
       "      <td>Loan originated</td>\n",
       "    </tr>\n",
       "    <tr>\n",
       "      <th>9</th>\n",
       "      <td>55079170700</td>\n",
       "      <td>Milwaukee</td>\n",
       "      <td>Home purchase</td>\n",
       "      <td>Single Family (1-4 Units):Site-Built</td>\n",
       "      <td>485.0</td>\n",
       "      <td>NA</td>\n",
       "      <td>30.0</td>\n",
       "      <td>Application denied by financial institution</td>\n",
       "    </tr>\n",
       "  </tbody>\n",
       "</table>\n",
       "</div>"
      ],
      "text/plain": [
       "  census_tract       name   loan_purpose  \\\n",
       "0  55089660201    Ozaukee  Home purchase   \n",
       "1  55059002700    Kenosha           None   \n",
       "2  55059002700    Kenosha           None   \n",
       "3  55059002700    Kenosha           None   \n",
       "4  55133203306   Waukesha           None   \n",
       "5  55133204502   Waukesha           None   \n",
       "6  55139002201  Winnebago           None   \n",
       "7  55139002201  Winnebago           None   \n",
       "8  55133203306   Waukesha           None   \n",
       "9  55079170700  Milwaukee  Home purchase   \n",
       "\n",
       "              derived_dwelling_category  thousands interest_rate  years  \\\n",
       "0  Single Family (1-4 Units):Site-Built      625.0          4.25   30.0   \n",
       "1  Single Family (1-4 Units):Site-Built      595.0            NA   30.0   \n",
       "2  Single Family (1-4 Units):Site-Built      595.0            NA   30.0   \n",
       "3  Single Family (1-4 Units):Site-Built      585.0            NA   30.0   \n",
       "4  Single Family (1-4 Units):Site-Built      575.0            NA   30.0   \n",
       "5  Single Family (1-4 Units):Site-Built      565.0            NA   30.0   \n",
       "6  Single Family (1-4 Units):Site-Built      545.0         3.125   30.0   \n",
       "7  Single Family (1-4 Units):Site-Built      545.0         3.125   30.0   \n",
       "8  Single Family (1-4 Units):Site-Built      545.0          2.75   30.0   \n",
       "9  Single Family (1-4 Units):Site-Built      485.0            NA   30.0   \n",
       "\n",
       "                                  action_taken  \n",
       "0                              Loan originated  \n",
       "1               File closed for incompleteness  \n",
       "2               File closed for incompleteness  \n",
       "3               File closed for incompleteness  \n",
       "4               File closed for incompleteness  \n",
       "5               File closed for incompleteness  \n",
       "6                              Loan originated  \n",
       "7        Application approved but not accepted  \n",
       "8                              Loan originated  \n",
       "9  Application denied by financial institution  "
      ]
     },
     "execution_count": 13,
     "metadata": {},
     "output_type": "execute_result"
    }
   ],
   "source": [
    "spark.sql(\"\"\"\n",
    "select census_tract,counties2.name,loan_purpose.loan_purpose,derived_dwelling_category,thousands,interest_rate,years,action_taken.action_taken\n",
    "from loans2\n",
    "LEFT JOIN banks ON banks.lei_2020=loans2.lei\n",
    "LEFT JOIN counties2 ON counties2.countycode=loans2.county_code\n",
    "LEFT JOIN action_taken ON action_taken.id = loans2.action_taken\n",
    "LEFT JOIN loan_purpose ON loan_purpose.id = loans2.loan_purpose\n",
    "where banks.respondent_name = 'AMERICAN FINANCIAL NETWORK, INC.'\n",
    "ORDER BY thousands DESC\n",
    "LIMIT 10\n",
    "\"\"\").toPandas()"
   ]
  },
  {
   "cell_type": "markdown",
   "id": "7f8d5803-9a85-4613-8005-dcedad96eadd",
   "metadata": {},
   "source": [
    "# PART 3: GROUPY BY and Windowing"
   ]
  },
  {
   "cell_type": "markdown",
   "id": "df27ebef-f680-49ca-983c-0a05d63ac5ab",
   "metadata": {},
   "source": [
    "# Q6"
   ]
  },
  {
   "cell_type": "code",
   "execution_count": 14,
   "id": "32584e16-6145-499e-8f10-11d64f39cfd0",
   "metadata": {},
   "outputs": [
    {
     "name": "stderr",
     "output_type": "stream",
     "text": [
      "                                                                                \r"
     ]
    },
    {
     "data": {
      "text/html": [
       "<div>\n",
       "<style scoped>\n",
       "    .dataframe tbody tr th:only-of-type {\n",
       "        vertical-align: middle;\n",
       "    }\n",
       "\n",
       "    .dataframe tbody tr th {\n",
       "        vertical-align: top;\n",
       "    }\n",
       "\n",
       "    .dataframe thead th {\n",
       "        text-align: right;\n",
       "    }\n",
       "</style>\n",
       "<table border=\"1\" class=\"dataframe\">\n",
       "  <thead>\n",
       "    <tr style=\"text-align: right;\">\n",
       "      <th></th>\n",
       "      <th>county_code</th>\n",
       "      <th>groups_of_lei</th>\n",
       "      <th>mean</th>\n",
       "    </tr>\n",
       "  </thead>\n",
       "  <tbody>\n",
       "    <tr>\n",
       "      <th>0</th>\n",
       "      <td>55013</td>\n",
       "      <td>201</td>\n",
       "      <td>8.283582</td>\n",
       "    </tr>\n",
       "    <tr>\n",
       "      <th>1</th>\n",
       "      <td>55127</td>\n",
       "      <td>384</td>\n",
       "      <td>25.312500</td>\n",
       "    </tr>\n",
       "    <tr>\n",
       "      <th>2</th>\n",
       "      <td>55089</td>\n",
       "      <td>303</td>\n",
       "      <td>29.442244</td>\n",
       "    </tr>\n",
       "    <tr>\n",
       "      <th>3</th>\n",
       "      <td>55007</td>\n",
       "      <td>210</td>\n",
       "      <td>6.414286</td>\n",
       "    </tr>\n",
       "    <tr>\n",
       "      <th>4</th>\n",
       "      <td>55005</td>\n",
       "      <td>223</td>\n",
       "      <td>14.345291</td>\n",
       "    </tr>\n",
       "    <tr>\n",
       "      <th>...</th>\n",
       "      <td>...</td>\n",
       "      <td>...</td>\n",
       "      <td>...</td>\n",
       "    </tr>\n",
       "    <tr>\n",
       "      <th>68</th>\n",
       "      <td>55103</td>\n",
       "      <td>113</td>\n",
       "      <td>5.371681</td>\n",
       "    </tr>\n",
       "    <tr>\n",
       "      <th>69</th>\n",
       "      <td>55125</td>\n",
       "      <td>301</td>\n",
       "      <td>8.691030</td>\n",
       "    </tr>\n",
       "    <tr>\n",
       "      <th>70</th>\n",
       "      <td>55009</td>\n",
       "      <td>346</td>\n",
       "      <td>55.017341</td>\n",
       "    </tr>\n",
       "    <tr>\n",
       "      <th>71</th>\n",
       "      <td>55135</td>\n",
       "      <td>238</td>\n",
       "      <td>15.731092</td>\n",
       "    </tr>\n",
       "    <tr>\n",
       "      <th>72</th>\n",
       "      <td>55041</td>\n",
       "      <td>129</td>\n",
       "      <td>5.790698</td>\n",
       "    </tr>\n",
       "  </tbody>\n",
       "</table>\n",
       "<p>73 rows × 3 columns</p>\n",
       "</div>"
      ],
      "text/plain": [
       "   county_code  groups_of_lei       mean\n",
       "0        55013            201   8.283582\n",
       "1        55127            384  25.312500\n",
       "2        55089            303  29.442244\n",
       "3        55007            210   6.414286\n",
       "4        55005            223  14.345291\n",
       "..         ...            ...        ...\n",
       "68       55103            113   5.371681\n",
       "69       55125            301   8.691030\n",
       "70       55009            346  55.017341\n",
       "71       55135            238  15.731092\n",
       "72       55041            129   5.790698\n",
       "\n",
       "[73 rows x 3 columns]"
      ]
     },
     "execution_count": 14,
     "metadata": {},
     "output_type": "execute_result"
    }
   ],
   "source": [
    "agg_mean1 = spark.sql(\"\"\"\n",
    "        SELECT county_code, COUNT(*) as groups_of_lei, MEAN(count) AS mean\n",
    "        FROM (\n",
    "            SELECT county_code, lei, COUNT(*) as count\n",
    "            FROM loans\n",
    "            GROUP BY county_code, lei\n",
    "        )\n",
    "        GROUP BY county_code\n",
    "        \"\"\")\n",
    "agg_mean1.toPandas()"
   ]
  },
  {
   "cell_type": "code",
   "execution_count": 15,
   "id": "4060b7eb-9fec-462b-84b5-dca585e63936",
   "metadata": {},
   "outputs": [
    {
     "name": "stderr",
     "output_type": "stream",
     "text": [
      "                                                                                \r"
     ]
    },
    {
     "data": {
      "text/html": [
       "<div>\n",
       "<style scoped>\n",
       "    .dataframe tbody tr th:only-of-type {\n",
       "        vertical-align: middle;\n",
       "    }\n",
       "\n",
       "    .dataframe tbody tr th {\n",
       "        vertical-align: top;\n",
       "    }\n",
       "\n",
       "    .dataframe thead th {\n",
       "        text-align: right;\n",
       "    }\n",
       "</style>\n",
       "<table border=\"1\" class=\"dataframe\">\n",
       "  <thead>\n",
       "    <tr style=\"text-align: right;\">\n",
       "      <th></th>\n",
       "      <th>lei</th>\n",
       "      <th>groups_of_lei</th>\n",
       "      <th>mean</th>\n",
       "    </tr>\n",
       "  </thead>\n",
       "  <tbody>\n",
       "    <tr>\n",
       "      <th>0</th>\n",
       "      <td>5493001P6QB5ISAUNV97</td>\n",
       "      <td>3</td>\n",
       "      <td>1.333333</td>\n",
       "    </tr>\n",
       "    <tr>\n",
       "      <th>1</th>\n",
       "      <td>5493003Q218ZJ8R1WN88</td>\n",
       "      <td>18</td>\n",
       "      <td>13.444444</td>\n",
       "    </tr>\n",
       "    <tr>\n",
       "      <th>2</th>\n",
       "      <td>549300EES32R2VOEK894</td>\n",
       "      <td>61</td>\n",
       "      <td>18.786885</td>\n",
       "    </tr>\n",
       "    <tr>\n",
       "      <th>3</th>\n",
       "      <td>254900TTZ395IC926125</td>\n",
       "      <td>29</td>\n",
       "      <td>3.103448</td>\n",
       "    </tr>\n",
       "    <tr>\n",
       "      <th>4</th>\n",
       "      <td>2549005Q4HZ55QX7YC64</td>\n",
       "      <td>26</td>\n",
       "      <td>3.153846</td>\n",
       "    </tr>\n",
       "    <tr>\n",
       "      <th>...</th>\n",
       "      <td>...</td>\n",
       "      <td>...</td>\n",
       "      <td>...</td>\n",
       "    </tr>\n",
       "    <tr>\n",
       "      <th>941</th>\n",
       "      <td>549300JQALY53TH22D13</td>\n",
       "      <td>1</td>\n",
       "      <td>1.000000</td>\n",
       "    </tr>\n",
       "    <tr>\n",
       "      <th>942</th>\n",
       "      <td>549300DL0FLZ3XZV5J76</td>\n",
       "      <td>2</td>\n",
       "      <td>1.500000</td>\n",
       "    </tr>\n",
       "    <tr>\n",
       "      <th>943</th>\n",
       "      <td>549300H8LK0AWIAODP34</td>\n",
       "      <td>1</td>\n",
       "      <td>2.000000</td>\n",
       "    </tr>\n",
       "    <tr>\n",
       "      <th>944</th>\n",
       "      <td>549300VYK2WBD7SST478</td>\n",
       "      <td>1</td>\n",
       "      <td>1.000000</td>\n",
       "    </tr>\n",
       "    <tr>\n",
       "      <th>945</th>\n",
       "      <td>549300DNRGCN05KNA737</td>\n",
       "      <td>1</td>\n",
       "      <td>1.000000</td>\n",
       "    </tr>\n",
       "  </tbody>\n",
       "</table>\n",
       "<p>946 rows × 3 columns</p>\n",
       "</div>"
      ],
      "text/plain": [
       "                      lei  groups_of_lei       mean\n",
       "0    5493001P6QB5ISAUNV97              3   1.333333\n",
       "1    5493003Q218ZJ8R1WN88             18  13.444444\n",
       "2    549300EES32R2VOEK894             61  18.786885\n",
       "3    254900TTZ395IC926125             29   3.103448\n",
       "4    2549005Q4HZ55QX7YC64             26   3.153846\n",
       "..                    ...            ...        ...\n",
       "941  549300JQALY53TH22D13              1   1.000000\n",
       "942  549300DL0FLZ3XZV5J76              2   1.500000\n",
       "943  549300H8LK0AWIAODP34              1   2.000000\n",
       "944  549300VYK2WBD7SST478              1   1.000000\n",
       "945  549300DNRGCN05KNA737              1   1.000000\n",
       "\n",
       "[946 rows x 3 columns]"
      ]
     },
     "execution_count": 15,
     "metadata": {},
     "output_type": "execute_result"
    }
   ],
   "source": [
    "agg_mean2 = spark.sql(\"\"\"\n",
    "        SELECT lei, COUNT(*) as groups_of_lei, MEAN(count) AS mean\n",
    "        FROM (\n",
    "            SELECT county_code, lei, COUNT(*) as count\n",
    "            FROM loans\n",
    "            GROUP BY county_code, lei\n",
    "        )\n",
    "        GROUP BY lei\n",
    "        \"\"\")\n",
    "agg_mean2.toPandas()"
   ]
  },
  {
   "cell_type": "code",
   "execution_count": 16,
   "id": "1cc5cd91-3122-4b51-8e25-536962b829a8",
   "metadata": {},
   "outputs": [
    {
     "name": "stdout",
     "output_type": "stream",
     "text": [
      "== Physical Plan ==\n",
      "AdaptiveSparkPlan (11)\n",
      "+- == Final Plan ==\n",
      "   * HashAggregate (6)\n",
      "   +- * HashAggregate (5)\n",
      "      +- * HashAggregate (4)\n",
      "         +- * HashAggregate (3)\n",
      "            +- * ColumnarToRow (2)\n",
      "               +- Scan parquet default.loans (1)\n",
      "+- == Initial Plan ==\n",
      "   HashAggregate (10)\n",
      "   +- HashAggregate (9)\n",
      "      +- HashAggregate (8)\n",
      "         +- HashAggregate (7)\n",
      "            +- Scan parquet default.loans (1)\n",
      "\n",
      "\n",
      "(1) Scan parquet default.loans\n",
      "Output [2]: [lei#964, county_code#967]\n",
      "Batched: true\n",
      "Location: InMemoryFileIndex [hdfs://main:9000/user/hive/warehouse/loans]\n",
      "ReadSchema: struct<lei:string,county_code:string>\n",
      "SelectedBucketsCount: 8 out of 8\n",
      "\n",
      "(2) ColumnarToRow [codegen id : 1]\n",
      "Input [2]: [lei#964, county_code#967]\n",
      "\n",
      "(3) HashAggregate [codegen id : 1]\n",
      "Input [2]: [lei#964, county_code#967]\n",
      "Keys [2]: [county_code#967, lei#964]\n",
      "Functions [1]: [partial_count(1)]\n",
      "Aggregate Attributes [1]: [count#1112L]\n",
      "Results [3]: [county_code#967, lei#964, count#1113L]\n",
      "\n",
      "(4) HashAggregate [codegen id : 1]\n",
      "Input [3]: [county_code#967, lei#964, count#1113L]\n",
      "Keys [2]: [county_code#967, lei#964]\n",
      "Functions [1]: [count(1)]\n",
      "Aggregate Attributes [1]: [count(1)#1100L]\n",
      "Results [2]: [county_code#967, count(1)#1100L AS count#1097L]\n",
      "\n",
      "(5) HashAggregate [codegen id : 1]\n",
      "Input [2]: [county_code#967, count#1097L]\n",
      "Keys [1]: [county_code#967]\n",
      "Functions [2]: [partial_count(1), partial_mean(count#1097L)]\n",
      "Aggregate Attributes [3]: [count#1106L, sum#1107, count#1108L]\n",
      "Results [4]: [county_code#967, count#1109L, sum#1110, count#1111L]\n",
      "\n",
      "(6) HashAggregate [codegen id : 1]\n",
      "Input [4]: [county_code#967, count#1109L, sum#1110, count#1111L]\n",
      "Keys [1]: [county_code#967]\n",
      "Functions [2]: [count(1), mean(count#1097L)]\n",
      "Aggregate Attributes [2]: [count(1)#1101L, mean(count#1097L)#1102]\n",
      "Results [3]: [county_code#967, count(1)#1101L AS groups_of_lei#1098L, mean(count#1097L)#1102 AS mean#1099]\n",
      "\n",
      "(7) HashAggregate\n",
      "Input [2]: [lei#964, county_code#967]\n",
      "Keys [2]: [county_code#967, lei#964]\n",
      "Functions [1]: [partial_count(1)]\n",
      "Aggregate Attributes [1]: [count#1112L]\n",
      "Results [3]: [county_code#967, lei#964, count#1113L]\n",
      "\n",
      "(8) HashAggregate\n",
      "Input [3]: [county_code#967, lei#964, count#1113L]\n",
      "Keys [2]: [county_code#967, lei#964]\n",
      "Functions [1]: [count(1)]\n",
      "Aggregate Attributes [1]: [count(1)#1100L]\n",
      "Results [2]: [county_code#967, count(1)#1100L AS count#1097L]\n",
      "\n",
      "(9) HashAggregate\n",
      "Input [2]: [county_code#967, count#1097L]\n",
      "Keys [1]: [county_code#967]\n",
      "Functions [2]: [partial_count(1), partial_mean(count#1097L)]\n",
      "Aggregate Attributes [3]: [count#1106L, sum#1107, count#1108L]\n",
      "Results [4]: [county_code#967, count#1109L, sum#1110, count#1111L]\n",
      "\n",
      "(10) HashAggregate\n",
      "Input [4]: [county_code#967, count#1109L, sum#1110, count#1111L]\n",
      "Keys [1]: [county_code#967]\n",
      "Functions [2]: [count(1), mean(count#1097L)]\n",
      "Aggregate Attributes [2]: [count(1)#1101L, mean(count#1097L)#1102]\n",
      "Results [3]: [county_code#967, count(1)#1101L AS groups_of_lei#1098L, mean(count#1097L)#1102 AS mean#1099]\n",
      "\n",
      "(11) AdaptiveSparkPlan\n",
      "Output [3]: [county_code#967, groups_of_lei#1098L, mean#1099]\n",
      "Arguments: isFinalPlan=true\n",
      "\n",
      "\n"
     ]
    }
   ],
   "source": [
    "agg_mean1.explain('formatted')"
   ]
  },
  {
   "cell_type": "code",
   "execution_count": 17,
   "id": "67f76f6e-1ac8-4696-864c-d29bd77126c6",
   "metadata": {},
   "outputs": [
    {
     "name": "stdout",
     "output_type": "stream",
     "text": [
      "== Physical Plan ==\n",
      "AdaptiveSparkPlan (15)\n",
      "+- == Final Plan ==\n",
      "   * HashAggregate (9)\n",
      "   +- AQEShuffleRead (8)\n",
      "      +- ShuffleQueryStage (7)\n",
      "         +- Exchange (6)\n",
      "            +- * HashAggregate (5)\n",
      "               +- * HashAggregate (4)\n",
      "                  +- * HashAggregate (3)\n",
      "                     +- * ColumnarToRow (2)\n",
      "                        +- Scan parquet default.loans (1)\n",
      "+- == Initial Plan ==\n",
      "   HashAggregate (14)\n",
      "   +- Exchange (13)\n",
      "      +- HashAggregate (12)\n",
      "         +- HashAggregate (11)\n",
      "            +- HashAggregate (10)\n",
      "               +- Scan parquet default.loans (1)\n",
      "\n",
      "\n",
      "(1) Scan parquet default.loans\n",
      "Output [2]: [lei#964, county_code#967]\n",
      "Batched: true\n",
      "Location: InMemoryFileIndex [hdfs://main:9000/user/hive/warehouse/loans]\n",
      "ReadSchema: struct<lei:string,county_code:string>\n",
      "SelectedBucketsCount: 8 out of 8\n",
      "\n",
      "(2) ColumnarToRow [codegen id : 1]\n",
      "Input [2]: [lei#964, county_code#967]\n",
      "\n",
      "(3) HashAggregate [codegen id : 1]\n",
      "Input [2]: [lei#964, county_code#967]\n",
      "Keys [2]: [county_code#967, lei#964]\n",
      "Functions [1]: [partial_count(1)]\n",
      "Aggregate Attributes [1]: [count#1129L]\n",
      "Results [3]: [county_code#967, lei#964, count#1130L]\n",
      "\n",
      "(4) HashAggregate [codegen id : 1]\n",
      "Input [3]: [county_code#967, lei#964, count#1130L]\n",
      "Keys [2]: [county_code#967, lei#964]\n",
      "Functions [1]: [count(1)]\n",
      "Aggregate Attributes [1]: [count(1)#1117L]\n",
      "Results [2]: [lei#964, count(1)#1117L AS count#1114L]\n",
      "\n",
      "(5) HashAggregate [codegen id : 1]\n",
      "Input [2]: [lei#964, count#1114L]\n",
      "Keys [1]: [lei#964]\n",
      "Functions [2]: [partial_count(1), partial_mean(count#1114L)]\n",
      "Aggregate Attributes [3]: [count#1123L, sum#1124, count#1125L]\n",
      "Results [4]: [lei#964, count#1126L, sum#1127, count#1128L]\n",
      "\n",
      "(6) Exchange\n",
      "Input [4]: [lei#964, count#1126L, sum#1127, count#1128L]\n",
      "Arguments: hashpartitioning(lei#964, 200), ENSURE_REQUIREMENTS, [plan_id=1142]\n",
      "\n",
      "(7) ShuffleQueryStage\n",
      "Output [4]: [lei#964, count#1126L, sum#1127, count#1128L]\n",
      "Arguments: 0\n",
      "\n",
      "(8) AQEShuffleRead\n",
      "Input [4]: [lei#964, count#1126L, sum#1127, count#1128L]\n",
      "Arguments: coalesced\n",
      "\n",
      "(9) HashAggregate [codegen id : 2]\n",
      "Input [4]: [lei#964, count#1126L, sum#1127, count#1128L]\n",
      "Keys [1]: [lei#964]\n",
      "Functions [2]: [count(1), mean(count#1114L)]\n",
      "Aggregate Attributes [2]: [count(1)#1118L, mean(count#1114L)#1119]\n",
      "Results [3]: [lei#964, count(1)#1118L AS groups_of_lei#1115L, mean(count#1114L)#1119 AS mean#1116]\n",
      "\n",
      "(10) HashAggregate\n",
      "Input [2]: [lei#964, county_code#967]\n",
      "Keys [2]: [county_code#967, lei#964]\n",
      "Functions [1]: [partial_count(1)]\n",
      "Aggregate Attributes [1]: [count#1129L]\n",
      "Results [3]: [county_code#967, lei#964, count#1130L]\n",
      "\n",
      "(11) HashAggregate\n",
      "Input [3]: [county_code#967, lei#964, count#1130L]\n",
      "Keys [2]: [county_code#967, lei#964]\n",
      "Functions [1]: [count(1)]\n",
      "Aggregate Attributes [1]: [count(1)#1117L]\n",
      "Results [2]: [lei#964, count(1)#1117L AS count#1114L]\n",
      "\n",
      "(12) HashAggregate\n",
      "Input [2]: [lei#964, count#1114L]\n",
      "Keys [1]: [lei#964]\n",
      "Functions [2]: [partial_count(1), partial_mean(count#1114L)]\n",
      "Aggregate Attributes [3]: [count#1123L, sum#1124, count#1125L]\n",
      "Results [4]: [lei#964, count#1126L, sum#1127, count#1128L]\n",
      "\n",
      "(13) Exchange\n",
      "Input [4]: [lei#964, count#1126L, sum#1127, count#1128L]\n",
      "Arguments: hashpartitioning(lei#964, 200), ENSURE_REQUIREMENTS, [plan_id=1120]\n",
      "\n",
      "(14) HashAggregate\n",
      "Input [4]: [lei#964, count#1126L, sum#1127, count#1128L]\n",
      "Keys [1]: [lei#964]\n",
      "Functions [2]: [count(1), mean(count#1114L)]\n",
      "Aggregate Attributes [2]: [count(1)#1118L, mean(count#1114L)#1119]\n",
      "Results [3]: [lei#964, count(1)#1118L AS groups_of_lei#1115L, mean(count#1114L)#1119 AS mean#1116]\n",
      "\n",
      "(15) AdaptiveSparkPlan\n",
      "Output [3]: [lei#964, groups_of_lei#1115L, mean#1116]\n",
      "Arguments: isFinalPlan=true\n",
      "\n",
      "\n"
     ]
    }
   ],
   "source": [
    "agg_mean2.explain('formatted')"
   ]
  },
  {
   "cell_type": "markdown",
   "id": "a4c08f74-ef88-4ed4-b420-3a1cd409774a",
   "metadata": {},
   "source": [
    "## The initial plan for the queries differs, the second query involves the use of exchange (a network I/O) operation where as the first query does not. This can be attributed to the fact that loans was divided into buckets by county_code when the it was loaded into hive at the start. Our first query uses group by county_code and hence does not require the use of network I/O."
   ]
  },
  {
   "cell_type": "markdown",
   "id": "f2fcf9da-3a98-431c-b6d3-508b926a4c2e",
   "metadata": {},
   "source": [
    "# Q7"
   ]
  },
  {
   "cell_type": "code",
   "execution_count": 18,
   "id": "45d704cc-c73c-437d-a822-1c1d5080c835",
   "metadata": {},
   "outputs": [
    {
     "name": "stderr",
     "output_type": "stream",
     "text": [
      "23/04/03 20:59:11 WARN HadoopFSUtils: The directory hdfs://main:9000/user/hive/warehouse/counties_code was not found. Was it deleted very recently?\n",
      "23/04/03 20:59:11 WARN FileUtils: File does not exist: hdfs://main:9000/user/hive/warehouse/counties_code; Force to delete it.\n",
      "23/04/03 20:59:11 ERROR FileUtils: Failed to delete hdfs://main:9000/user/hive/warehouse/counties_code\n",
      "                                                                                \r"
     ]
    }
   ],
   "source": [
    "counties_code = spark.sql(\"\"\"\n",
    "                SELECT *, concat(LPAD(counties.state ,2,'0'),LPAD(counties.county ,3,'0')) as counties_code\n",
    "                FROM counties\n",
    "                \"\"\")\n",
    "counties_code.write.saveAsTable('counties_code', mode='overwrite')"
   ]
  },
  {
   "cell_type": "code",
   "execution_count": 19,
   "id": "35167614-bce6-4910-a3ea-66cd14e94d4e",
   "metadata": {},
   "outputs": [
    {
     "name": "stderr",
     "output_type": "stream",
     "text": [
      "                                                                                \r"
     ]
    },
    {
     "data": {
      "text/html": [
       "<div>\n",
       "<style scoped>\n",
       "    .dataframe tbody tr th:only-of-type {\n",
       "        vertical-align: middle;\n",
       "    }\n",
       "\n",
       "    .dataframe tbody tr th {\n",
       "        vertical-align: top;\n",
       "    }\n",
       "\n",
       "    .dataframe thead th {\n",
       "        text-align: right;\n",
       "    }\n",
       "</style>\n",
       "<table border=\"1\" class=\"dataframe\">\n",
       "  <thead>\n",
       "    <tr style=\"text-align: right;\">\n",
       "      <th></th>\n",
       "      <th>name</th>\n",
       "      <th>avg(interest_rate)</th>\n",
       "    </tr>\n",
       "  </thead>\n",
       "  <tbody>\n",
       "    <tr>\n",
       "      <th>0</th>\n",
       "      <td>Milwaukee</td>\n",
       "      <td>3.117347</td>\n",
       "    </tr>\n",
       "    <tr>\n",
       "      <th>1</th>\n",
       "      <td>Waukesha</td>\n",
       "      <td>2.875823</td>\n",
       "    </tr>\n",
       "    <tr>\n",
       "      <th>2</th>\n",
       "      <td>Washington</td>\n",
       "      <td>2.851009</td>\n",
       "    </tr>\n",
       "    <tr>\n",
       "      <th>3</th>\n",
       "      <td>Dane</td>\n",
       "      <td>2.890675</td>\n",
       "    </tr>\n",
       "    <tr>\n",
       "      <th>4</th>\n",
       "      <td>Brown</td>\n",
       "      <td>3.010949</td>\n",
       "    </tr>\n",
       "    <tr>\n",
       "      <th>5</th>\n",
       "      <td>Racine</td>\n",
       "      <td>3.099784</td>\n",
       "    </tr>\n",
       "    <tr>\n",
       "      <th>6</th>\n",
       "      <td>Outagamie</td>\n",
       "      <td>2.979662</td>\n",
       "    </tr>\n",
       "    <tr>\n",
       "      <th>7</th>\n",
       "      <td>Winnebago</td>\n",
       "      <td>3.028476</td>\n",
       "    </tr>\n",
       "    <tr>\n",
       "      <th>8</th>\n",
       "      <td>Ozaukee</td>\n",
       "      <td>2.867377</td>\n",
       "    </tr>\n",
       "    <tr>\n",
       "      <th>9</th>\n",
       "      <td>Sheboygan</td>\n",
       "      <td>2.995511</td>\n",
       "    </tr>\n",
       "  </tbody>\n",
       "</table>\n",
       "</div>"
      ],
      "text/plain": [
       "         name  avg(interest_rate)\n",
       "0   Milwaukee            3.117347\n",
       "1    Waukesha            2.875823\n",
       "2  Washington            2.851009\n",
       "3        Dane            2.890675\n",
       "4       Brown            3.010949\n",
       "5      Racine            3.099784\n",
       "6   Outagamie            2.979662\n",
       "7   Winnebago            3.028476\n",
       "8     Ozaukee            2.867377\n",
       "9   Sheboygan            2.995511"
      ]
     },
     "execution_count": 19,
     "metadata": {},
     "output_type": "execute_result"
    }
   ],
   "source": [
    "plot_df = spark.sql(\"\"\"\n",
    "        SELECT NAME as name, AVG(interest_rate)\n",
    "        FROM(\n",
    "            SELECT *\n",
    "            FROM counties_code, banks\n",
    "            JOIN loans ON loans.county_code = counties_code.counties_code AND loans.lei = banks.lei_2020\n",
    "            )\n",
    "        WHERE respondent_name = \"Wells Fargo Bank, National Association\"\n",
    "        GROUP BY NAME\n",
    "        ORDER BY COUNT(*) DESC\n",
    "        LIMIT 10\n",
    "        \"\"\").toPandas()\n",
    "plot_df"
   ]
  },
  {
   "cell_type": "code",
   "execution_count": 20,
   "id": "e77ef5a6-6d10-49d7-a4e6-7136f5bdd34a",
   "metadata": {},
   "outputs": [
    {
     "data": {
      "text/plain": [
       "<Axes: xlabel='name', ylabel='Average Interest Rate'>"
      ]
     },
     "execution_count": 20,
     "metadata": {},
     "output_type": "execute_result"
    },
    {
     "data": {
      "image/png": "[encoded data removed]",
      "text/plain": [
       "<Figure size 640x480 with 1 Axes>"
      ]
     },
     "metadata": {},
     "output_type": "display_data"
    }
   ],
   "source": [
    "plot_df.set_index(\"name\").plot.bar(ylabel = 'Average Interest Rate',legend=None)"
   ]
  },
  {
   "cell_type": "markdown",
   "id": "3949a81e-37d2-4d27-8ce1-de36a8777757",
   "metadata": {},
   "source": [
    "# Q8"
   ]
  },
  {
   "cell_type": "code",
   "execution_count": 21,
   "id": "047def34-7d9b-4e6e-8af9-d25e049f9b76",
   "metadata": {},
   "outputs": [
    {
     "name": "stderr",
     "output_type": "stream",
     "text": [
      "                                                                                \r"
     ]
    },
    {
     "data": {
      "text/html": [
       "<div>\n",
       "<style scoped>\n",
       "    .dataframe tbody tr th:only-of-type {\n",
       "        vertical-align: middle;\n",
       "    }\n",
       "\n",
       "    .dataframe tbody tr th {\n",
       "        vertical-align: top;\n",
       "    }\n",
       "\n",
       "    .dataframe thead th {\n",
       "        text-align: right;\n",
       "    }\n",
       "</style>\n",
       "<table border=\"1\" class=\"dataframe\">\n",
       "  <thead>\n",
       "    <tr style=\"text-align: right;\">\n",
       "      <th></th>\n",
       "      <th>name</th>\n",
       "      <th>loan_amounts_in_million</th>\n",
       "    </tr>\n",
       "  </thead>\n",
       "  <tbody>\n",
       "    <tr>\n",
       "      <th>0</th>\n",
       "      <td>Kenosha</td>\n",
       "      <td>66.005</td>\n",
       "    </tr>\n",
       "    <tr>\n",
       "      <th>1</th>\n",
       "      <td>Dane</td>\n",
       "      <td>52.005</td>\n",
       "    </tr>\n",
       "    <tr>\n",
       "      <th>2</th>\n",
       "      <td>Milwaukee</td>\n",
       "      <td>42.005</td>\n",
       "    </tr>\n",
       "    <tr>\n",
       "      <th>3</th>\n",
       "      <td>Waukesha</td>\n",
       "      <td>30.005</td>\n",
       "    </tr>\n",
       "    <tr>\n",
       "      <th>4</th>\n",
       "      <td>Ozaukee</td>\n",
       "      <td>29.915</td>\n",
       "    </tr>\n",
       "    <tr>\n",
       "      <th>5</th>\n",
       "      <td>Walworth</td>\n",
       "      <td>17.695</td>\n",
       "    </tr>\n",
       "    <tr>\n",
       "      <th>6</th>\n",
       "      <td>Brown</td>\n",
       "      <td>17.215</td>\n",
       "    </tr>\n",
       "    <tr>\n",
       "      <th>7</th>\n",
       "      <td>La Crosse</td>\n",
       "      <td>15.955</td>\n",
       "    </tr>\n",
       "    <tr>\n",
       "      <th>8</th>\n",
       "      <td>Washington</td>\n",
       "      <td>11.705</td>\n",
       "    </tr>\n",
       "    <tr>\n",
       "      <th>9</th>\n",
       "      <td>Outagamie</td>\n",
       "      <td>10.965</td>\n",
       "    </tr>\n",
       "  </tbody>\n",
       "</table>\n",
       "</div>"
      ],
      "text/plain": [
       "         name  loan_amounts_in_million\n",
       "0     Kenosha                   66.005\n",
       "1        Dane                   52.005\n",
       "2   Milwaukee                   42.005\n",
       "3    Waukesha                   30.005\n",
       "4     Ozaukee                   29.915\n",
       "5    Walworth                   17.695\n",
       "6       Brown                   17.215\n",
       "7   La Crosse                   15.955\n",
       "8  Washington                   11.705\n",
       "9   Outagamie                   10.965"
      ]
     },
     "execution_count": 21,
     "metadata": {},
     "output_type": "execute_result"
    }
   ],
   "source": [
    "plot_df2 = spark.sql(\"\"\"\n",
    "        SELECT name, loan_amount/1000000 as loan_amounts_in_million\n",
    "        FROM(\n",
    "            SELECT name, loan_amount,\n",
    "            DENSE_RANK() OVER (PARTITION BY name ORDER BY loan_amount DESC) AS rank\n",
    "            FROM counties_code\n",
    "            INNER JOIN loans ON loans.county_code = counties_code.counties_code\n",
    "            )\n",
    "        WHERE rank = 2\n",
    "        ORDER BY loan_amount DESC\n",
    "        LIMIT 10\n",
    "        \"\"\").toPandas()\n",
    "plot_df2"
   ]
  },
  {
   "cell_type": "code",
   "execution_count": 22,
   "id": "3204ac2a-31ba-4ab1-b361-21aa91607e9f",
   "metadata": {},
   "outputs": [
    {
     "data": {
      "text/plain": [
       "<Axes: xlabel='name', ylabel='2nd Biggest Loan Application (Millions $)'>"
      ]
     },
     "execution_count": 22,
     "metadata": {},
     "output_type": "execute_result"
    },
    {
     "data": {
      "image/png": "[encoded data removed]",
      "text/plain": [
       "<Figure size 640x480 with 1 Axes>"
      ]
     },
     "metadata": {},
     "output_type": "display_data"
    }
   ],
   "source": [
    "plot_df2.set_index(\"name\").plot.bar(ylabel = '2nd Biggest Loan Application (Millions $)',legend=None)"
   ]
  },
  {
   "cell_type": "markdown",
   "id": "87d64072-b4e9-435e-89cc-2c314a98fddc",
   "metadata": {},
   "source": [
    "# Q9"
   ]
  },
  {
   "cell_type": "code",
   "execution_count": 23,
   "id": "26bef578-c4fb-45a9-aa15-da07d64c081f",
   "metadata": {},
   "outputs": [
    {
     "name": "stderr",
     "output_type": "stream",
     "text": [
      "                                                                                \r"
     ]
    },
    {
     "data": {
      "text/html": [
       "<div>\n",
       "<style scoped>\n",
       "    .dataframe tbody tr th:only-of-type {\n",
       "        vertical-align: middle;\n",
       "    }\n",
       "\n",
       "    .dataframe tbody tr th {\n",
       "        vertical-align: top;\n",
       "    }\n",
       "\n",
       "    .dataframe thead th {\n",
       "        text-align: right;\n",
       "    }\n",
       "</style>\n",
       "<table border=\"1\" class=\"dataframe\">\n",
       "  <thead>\n",
       "    <tr style=\"text-align: right;\">\n",
       "      <th></th>\n",
       "      <th>interest_rate</th>\n",
       "    </tr>\n",
       "  </thead>\n",
       "  <tbody>\n",
       "    <tr>\n",
       "      <th>0</th>\n",
       "      <td>NA</td>\n",
       "    </tr>\n",
       "    <tr>\n",
       "      <th>1</th>\n",
       "      <td>NA</td>\n",
       "    </tr>\n",
       "    <tr>\n",
       "      <th>2</th>\n",
       "      <td>NA</td>\n",
       "    </tr>\n",
       "    <tr>\n",
       "      <th>3</th>\n",
       "      <td>NA</td>\n",
       "    </tr>\n",
       "    <tr>\n",
       "      <th>4</th>\n",
       "      <td>2.375</td>\n",
       "    </tr>\n",
       "    <tr>\n",
       "      <th>...</th>\n",
       "      <td>...</td>\n",
       "    </tr>\n",
       "    <tr>\n",
       "      <th>12482</th>\n",
       "      <td>3.75</td>\n",
       "    </tr>\n",
       "    <tr>\n",
       "      <th>12483</th>\n",
       "      <td>3.625</td>\n",
       "    </tr>\n",
       "    <tr>\n",
       "      <th>12484</th>\n",
       "      <td>6.0</td>\n",
       "    </tr>\n",
       "    <tr>\n",
       "      <th>12485</th>\n",
       "      <td>NA</td>\n",
       "    </tr>\n",
       "    <tr>\n",
       "      <th>12486</th>\n",
       "      <td>8.5</td>\n",
       "    </tr>\n",
       "  </tbody>\n",
       "</table>\n",
       "<p>12487 rows × 1 columns</p>\n",
       "</div>"
      ],
      "text/plain": [
       "      interest_rate\n",
       "0                NA\n",
       "1                NA\n",
       "2                NA\n",
       "3                NA\n",
       "4             2.375\n",
       "...             ...\n",
       "12482          3.75\n",
       "12483         3.625\n",
       "12484           6.0\n",
       "12485            NA\n",
       "12486           8.5\n",
       "\n",
       "[12487 rows x 1 columns]"
      ]
     },
     "execution_count": 23,
     "metadata": {},
     "output_type": "execute_result"
    }
   ],
   "source": [
    "cache_df = spark.sql(\n",
    "    \"\"\"\n",
    "    SELECT interest_rate\n",
    "    FROM banks\n",
    "    INNER JOIN loans\n",
    "    ON banks.lei_2020 = loans.lei \n",
    "    WHERE banks.respondent_name = 'Wells Fargo Bank, National Association'\n",
    "    \"\"\")\n",
    "cache_df.toPandas()"
   ]
  },
  {
   "cell_type": "code",
   "execution_count": 24,
   "id": "be096168-41af-43c5-8f1b-1f147299af31",
   "metadata": {},
   "outputs": [
    {
     "name": "stderr",
     "output_type": "stream",
     "text": [
      "                                                                                \r"
     ]
    },
    {
     "data": {
      "text/plain": [
       "Text(0, 0.5, 'Milliseconds')"
      ]
     },
     "execution_count": 24,
     "metadata": {},
     "output_type": "execute_result"
    },
    {
     "data": {
      "image/png": "[encoded data removed]",
      "text/plain": [
       "<Figure size 640x480 with 1 Axes>"
      ]
     },
     "metadata": {},
     "output_type": "display_data"
    }
   ],
   "source": [
    "import time as time\n",
    "import matplotlib.pyplot as plt\n",
    "times=[]\n",
    "c_times=[]\n",
    "for i in range(10):\n",
    "    if i==4:\n",
    "        cache_df.cache()\n",
    "    t1=time.time()\n",
    "    cache_df.count()\n",
    "    t2=time.time()\n",
    "    times.append((t2-t1)*1000)\n",
    "c_times=times[5:]\n",
    "times=times[:5]\n",
    "query_number=[i for i in range(10)]\n",
    "plt.plot(query_number[:5],times)\n",
    "plt.plot(query_number[5:],c_times)\n",
    "plt.xlabel('Query Number')\n",
    "plt.ylabel('Milliseconds')\n",
    "#sharp dip after caching"
   ]
  },
  {
   "cell_type": "markdown",
   "id": "73f14128-d2ca-4202-8faf-b9f86323e529",
   "metadata": {},
   "source": [
    "## Q10"
   ]
  },
  {
   "cell_type": "code",
   "execution_count": 25,
   "id": "5bb715e4-e4f0-48e3-8b31-05ea71d2efc7",
   "metadata": {},
   "outputs": [
    {
     "data": {
      "text/plain": [
       "1"
      ]
     },
     "execution_count": 25,
     "metadata": {},
     "output_type": "execute_result"
    }
   ],
   "source": [
    "cache_df=cache_df.repartition(1)\n",
    "cache_df.cache()\n",
    "cache_df.rdd.getNumPartitions()"
   ]
  },
  {
   "cell_type": "code",
   "execution_count": 40,
   "id": "d3efbff0-8f24-4e5b-938c-0c6f347735e5",
   "metadata": {},
   "outputs": [
    {
     "data": {
      "text/plain": [
       "Text(0, 0.5, 'Tasks Count')"
      ]
     },
     "execution_count": 40,
     "metadata": {},
     "output_type": "execute_result"
    },
    {
     "data": {
      "image/png": "[encoded data removed]",
      "text/plain": [
       "<Figure size 640x480 with 1 Axes>"
      ]
     },
     "metadata": {},
     "output_type": "display_data"
    }
   ],
   "source": [
    "tasks_done1=[]\n",
    "tasks_done2=[]\n",
    "import requests\n",
    "import json\n",
    "for i in range(10):\n",
    "    cache_df.count()\n",
    "    req=requests.get('http://localhost:4040/api/v1/applications')\n",
    "    resp=(req.content).decode()\n",
    "    resp=json.loads(resp)\n",
    "    app_id=resp[0]['id']\n",
    "    req=requests.get(f'http://localhost:4040/api/v1/applications/{app_id}/executors')\n",
    "    resp=(req.content).decode()\n",
    "    resp=json.loads(resp)\n",
    "    tasks_done1.append(resp[1]['completedTasks'])\n",
    "    tasks_done2.append(resp[2]['completedTasks'])\n",
    "plt.plot(query_number,tasks_done1)\n",
    "plt.plot(query_number,tasks_done2)\n",
    "plt.xlabel('Query Number')\n",
    "plt.ylabel('Tasks Count')\n",
    "## the first executor does all the work whereas the second executor stops"
   ]
  }
 ],
 "metadata": {
  "kernelspec": {
   "display_name": "Python 3 (ipykernel)",
   "language": "python",
   "name": "python3"
  },
  "language_info": {
   "codemirror_mode": {
    "name": "ipython",
    "version": 3
   },
   "file_extension": ".py",
   "mimetype": "text/x-python",
   "name": "python",
   "nbconvert_exporter": "python",
   "pygments_lexer": "ipython3",
   "version": "3.10.6"
  }
 },
 "nbformat": 4,
 "nbformat_minor": 5
}
